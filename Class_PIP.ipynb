{
  "cells": [
    {
      "cell_type": "markdown",
      "metadata": {
        "id": "view-in-github",
        "colab_type": "text"
      },
      "source": [
        "<a href=\"https://colab.research.google.com/github/Zahraan-Sharieff/Basic-Python/blob/main/Class_PIP.ipynb\" target=\"_parent\"><img src=\"https://colab.research.google.com/assets/colab-badge.svg\" alt=\"Open In Colab\"/></a>"
      ]
    },
    {
      "cell_type": "code",
      "execution_count": null,
      "metadata": {
        "colab": {
          "base_uri": "https://localhost:8080/"
        },
        "id": "vYMDBTJNASDe",
        "outputId": "783118f0-815e-4c1a-a9d9-88747b6c40a7"
      },
      "outputs": [
        {
          "output_type": "stream",
          "name": "stdout",
          "text": [
            "hello zahraan\n"
          ]
        }
      ],
      "source": [
        "print(\"hello zahraan\")"
      ]
    },
    {
      "cell_type": "code",
      "execution_count": null,
      "metadata": {
        "colab": {
          "base_uri": "https://localhost:8080/"
        },
        "id": "z7BWCmHtMPWK",
        "outputId": "b1b30f2c-f0a9-4463-fe34-b163d4640367"
      },
      "outputs": [
        {
          "name": "stdout",
          "output_type": "stream",
          "text": [
            "the sum of the two numbers is: 100\n"
          ]
        }
      ],
      "source": [
        "# sum of two numbers\n",
        "num1=25\n",
        "num2=75\n",
        "sum=num1+num2\n",
        "print(\"the sum of the two numbers is:\",sum)"
      ]
    },
    {
      "cell_type": "code",
      "execution_count": null,
      "metadata": {
        "colab": {
          "base_uri": "https://localhost:8080/"
        },
        "id": "hKDHEEkoP2Po",
        "outputId": "433ac7f7-401a-4935-db1c-384be68c1335"
      },
      "outputs": [
        {
          "name": "stdout",
          "output_type": "stream",
          "text": [
            "the product of the three numbers is: 45\n"
          ]
        }
      ],
      "source": [
        "# multiplication of 3 nos\n",
        "num1=5\n",
        "num2=3\n",
        "num3=3\n",
        "product=num1*num2*num3\n",
        "print(\"the product of the three numbers is:\",product)"
      ]
    },
    {
      "cell_type": "code",
      "execution_count": null,
      "metadata": {
        "colab": {
          "base_uri": "https://localhost:8080/"
        },
        "id": "Oga0XkI6RpIn",
        "outputId": "d0974337-9ca3-4f7b-a7f2-220d355ed8cf"
      },
      "outputs": [
        {
          "name": "stdout",
          "output_type": "stream",
          "text": [
            "the division of the two numbers is: 10.0\n"
          ]
        }
      ],
      "source": [
        "# division oftwo nos\n",
        "num1=50\n",
        "num2=5\n",
        "division=num1/num2\n",
        "print(\"the division of the two numbers is:\",division)"
      ]
    },
    {
      "cell_type": "code",
      "execution_count": null,
      "metadata": {
        "colab": {
          "base_uri": "https://localhost:8080/"
        },
        "id": "b6X6807ZR6GD",
        "outputId": "c76c61c5-52cc-430b-a033-79ff9377a9c9"
      },
      "outputs": [
        {
          "name": "stdout",
          "output_type": "stream",
          "text": [
            "my name is zahraan\n"
          ]
        }
      ],
      "source": [
        "name=(\"zahraan\")\n",
        "print(\"my name is\",name)"
      ]
    },
    {
      "cell_type": "code",
      "execution_count": null,
      "metadata": {
        "colab": {
          "base_uri": "https://localhost:8080/"
        },
        "id": "S91WrgsnRiCi",
        "outputId": "54eb3189-9077-4dd4-d194-94b420ff9ba0"
      },
      "outputs": [
        {
          "name": "stdout",
          "output_type": "stream",
          "text": [
            "sjpuc\n"
          ]
        }
      ],
      "source": [
        "name=(\"sjpuc\")\n",
        "print(name)"
      ]
    },
    {
      "cell_type": "code",
      "execution_count": null,
      "metadata": {
        "colab": {
          "base_uri": "https://localhost:8080/"
        },
        "id": "ui1_qnvxSfuz",
        "outputId": "da0093f8-e29c-4217-99db-81e207fad8b2"
      },
      "outputs": [
        {
          "name": "stdout",
          "output_type": "stream",
          "text": [
            "enter your number007\n",
            "007\n"
          ]
        },
        {
          "data": {
            "text/plain": [
              "str"
            ]
          },
          "execution_count": 8,
          "metadata": {},
          "output_type": "execute_result"
        }
      ],
      "source": [
        "name=input(\"enter your number\")\n",
        "print(name)\n",
        "type(name)"
      ]
    },
    {
      "cell_type": "code",
      "execution_count": null,
      "metadata": {
        "colab": {
          "base_uri": "https://localhost:8080/"
        },
        "id": "0sp9bMdNXQ8z",
        "outputId": "b792c299-4e89-4206-97da-71669cecc605"
      },
      "outputs": [
        {
          "name": "stdout",
          "output_type": "stream",
          "text": [
            "Enter the value of the first variable10\n",
            "eneter the value of the second variable10\n",
            "the sum is: 20\n",
            "<class 'int'>\n"
          ]
        }
      ],
      "source": [
        "# sum of two nos with user input\n",
        "\n",
        "num1=int(input(\"Enter the value of the first variable\"))\n",
        "num2=int(input(\"eneter the value of the second variable\"))\n",
        "\n",
        "sum=num1+num2\n",
        "print(\"the sum is:\",sum)\n",
        "print(type(num1))"
      ]
    },
    {
      "cell_type": "code",
      "execution_count": null,
      "metadata": {
        "colab": {
          "base_uri": "https://localhost:8080/"
        },
        "id": "EO7x0Ktra_o7",
        "outputId": "42e2ecb0-9c09-4bb8-bd82-a456d73068ca"
      },
      "outputs": [
        {
          "name": "stdout",
          "output_type": "stream",
          "text": [
            "He said,\"Python is fun!\"\n"
          ]
        }
      ],
      "source": [
        "escape_character=\"He said,\\\"Python is fun!\\\"\"\n",
        "print(escape_character)"
      ]
    },
    {
      "cell_type": "code",
      "execution_count": null,
      "metadata": {
        "colab": {
          "base_uri": "https://localhost:8080/"
        },
        "id": "ESY2lxL9b7z3",
        "outputId": "802c6f7c-aa3b-4df9-d8dc-820a4ff2e88d"
      },
      "outputs": [
        {
          "name": "stdout",
          "output_type": "stream",
          "text": [
            "B\n"
          ]
        }
      ],
      "source": [
        "# string indexing\n",
        "city=\"Bangalore\"\n",
        "print(city[0])"
      ]
    },
    {
      "cell_type": "code",
      "execution_count": null,
      "metadata": {
        "colab": {
          "base_uri": "https://localhost:8080/"
        },
        "id": "SKumOIrYjK30",
        "outputId": "65a0d262-ff72-407d-a3d6-dd0e4096f651"
      },
      "outputs": [
        {
          "name": "stdout",
          "output_type": "stream",
          "text": [
            "bang\n"
          ]
        }
      ],
      "source": [
        "# string slicing\n",
        "#syntax[start:end:step]\n",
        "city=\"bangalore\"\n",
        "print(city[0:4])"
      ]
    },
    {
      "cell_type": "code",
      "execution_count": null,
      "metadata": {
        "colab": {
          "base_uri": "https://localhost:8080/"
        },
        "id": "Jl-OHQ7Xl0jY",
        "outputId": "d12b0d44-9512-47db-e050-30e1d5d43c1f"
      },
      "outputs": [
        {
          "name": "stdout",
          "output_type": "stream",
          "text": [
            "saudi\n"
          ]
        }
      ],
      "source": [
        "place=\"saudia\"\n",
        "print(place[0:5])"
      ]
    },
    {
      "cell_type": "code",
      "execution_count": null,
      "metadata": {
        "colab": {
          "base_uri": "https://localhost:8080/"
        },
        "id": "ClkgMdILmGyn",
        "outputId": "b9e59087-a43b-4e2d-d767-1903e2fc41f8"
      },
      "outputs": [
        {
          "name": "stdout",
          "output_type": "stream",
          "text": [
            "arshaan\n",
            "arshaan ka pen is parker\n",
            "the sum of two numbers is 100\n",
            "-119\n",
            "inka product hai 50\n",
            "al-khobar\n",
            "enter your number007\n",
            "007\n",
            "enter your first variable10\n",
            "eneter your second variable10\n",
            "The sum of two nos is: 20\n",
            "<class 'int'>\n",
            "B\n",
            "saudi\n"
          ]
        }
      ],
      "source": [
        "print(\"arshaan\")\n",
        "print(\"arshaan ka pen is parker\")\n",
        "# revision-sum of 2 nos without user input\n",
        "num1=43\n",
        "num2=57\n",
        "\n",
        "sum=num1+num2\n",
        "print(\"the sum of two numbers is\",sum)\n",
        "\n",
        "num1=35\n",
        "num2=89\n",
        "num3=65\n",
        "difference=num1-num2-num3\n",
        "print(difference)\n",
        "\n",
        "num1=5\n",
        "num2=10\n",
        "product=num1*num2\n",
        "print(\"inka product hai\",product)\n",
        "\n",
        "jagah=(\"al-khobar\")\n",
        "print(jagah)\n",
        "\n",
        "name=input(\"enter your number\")\n",
        "print(name)\n",
        "type(name)\n",
        "\n",
        "num1=int(input(\"enter your first variable\"))\n",
        "num2=int(input(\"eneter your second variable\"))\n",
        "sum=num1+num2\n",
        "print(\"The sum of two nos is:\",sum)\n",
        "print(type(num1))\n",
        "\n",
        "city='Bangalore'\n",
        "print(city[0])\n",
        "\n",
        "home=\"saudia\"\n",
        "print(home[0:5])"
      ]
    },
    {
      "cell_type": "code",
      "execution_count": null,
      "metadata": {
        "colab": {
          "base_uri": "https://localhost:8080/"
        },
        "id": "jTHt8V1iDYeT",
        "outputId": "2a3a567a-e0dc-411d-f358-118d5237e861"
      },
      "outputs": [
        {
          "name": "stdout",
          "output_type": "stream",
          "text": [
            "[18, 11, 50]\n",
            "apples\n",
            "mangoes\n",
            "3\n",
            "green\n",
            "4\n"
          ]
        }
      ],
      "source": [
        "#lists\n",
        "\n",
        "ages=[18,11,50]\n",
        "print(ages)\n",
        "type(ages)\n",
        "\n",
        "\n",
        "groceries=['apples', 'orange', 'mangoes']\n",
        "print(groceries[0])\n",
        "print(groceries[2])\n",
        "print(len(groceries))\n",
        "\n",
        "colors=['red','green','black','blue']\n",
        "print(colors[1])\n",
        "print(len(colors))"
      ]
    },
    {
      "cell_type": "code",
      "execution_count": null,
      "metadata": {
        "colab": {
          "base_uri": "https://localhost:8080/"
        },
        "id": "QW_O-8QNJHcf",
        "outputId": "b006b523-9935-411d-da31-4f13aafb1e19"
      },
      "outputs": [
        {
          "name": "stdout",
          "output_type": "stream",
          "text": [
            "language[0]= python\n",
            "language[2]= C++\n"
          ]
        }
      ],
      "source": [
        "#accessing elements\n",
        "\n",
        "#negative indexing\n",
        "\n",
        "\n",
        "language=['python', 'swift', 'C++']\n",
        "print('language[0]=', language[-3])\n",
        "print('language[2]=', language[-1])\n",
        "\n"
      ]
    },
    {
      "cell_type": "code",
      "execution_count": null,
      "metadata": {
        "colab": {
          "base_uri": "https://localhost:8080/"
        },
        "id": "tT0X2RzqKd7w",
        "outputId": "ebbe6ffe-b383-4b6e-daa2-e9c6a07d9558"
      },
      "outputs": [
        {
          "name": "stdout",
          "output_type": "stream",
          "text": [
            "['donald trump', 20, 'politics', [2, 4]]\n",
            "presidents name,age,occupation is donald trump 20 politics\n",
            "4\n",
            "2\n"
          ]
        }
      ],
      "source": [
        "#inner lists\n",
        "\n",
        "student=['donald trump', 20, 'politics', [2,4]]\n",
        "print(student)\n",
        "print('presidents name,age,occupation is', student[0],student[1],student[2])\n",
        "print(len(student))\n",
        "print(student[3][0])"
      ]
    },
    {
      "cell_type": "code",
      "execution_count": null,
      "metadata": {
        "colab": {
          "base_uri": "https://localhost:8080/"
        },
        "id": "1Bcn6uKwLS6D",
        "outputId": "325ff68c-d656-45ad-cbd5-622fc3ea9d72"
      },
      "outputs": [
        {
          "name": "stdout",
          "output_type": "stream",
          "text": [
            "['p', 'r', 'o', 'g', 'r']\n",
            "['p', 'r', 'o', 'g', 'r']\n",
            "['o', 'g', 'r']\n",
            "my_list[0:3=] ['p', 'r', 'o']\n",
            "['p', 'r', 'o']\n",
            "['p', 'r', 'o', 'g', 'r', 'a', 'm']\n"
          ]
        }
      ],
      "source": [
        "#slicing of a list in python\n",
        "\n",
        "my_list=['p','r','o','g','r','a','m']\n",
        "print(my_list[0:5])\n",
        "print(my_list[0:-2])\n",
        "print(my_list[2:-2])\n",
        "print('my_list[0:3=]', my_list[0:3])\n",
        "print(my_list[ :-4])\n",
        "print(my_list[:])"
      ]
    },
    {
      "cell_type": "code",
      "execution_count": null,
      "metadata": {
        "colab": {
          "base_uri": "https://localhost:8080/"
        },
        "id": "uRLVESUnSy-C",
        "outputId": "47752912-9e6a-4407-c0ce-26c2693442be"
      },
      "outputs": [
        {
          "name": "stdout",
          "output_type": "stream",
          "text": [
            "original list ['apples', 'bananas', 'mangoes']\n",
            "updated list: ['apples', 'bananas', 'mangoes', 'cherry']\n"
          ]
        }
      ],
      "source": [
        "# adding elements to a list\n",
        "#can also be added to a specific place in te list\n",
        "\n",
        "fruits=['apples', 'bananas', 'mangoes']\n",
        "print(\"original list\", fruits)\n",
        "\n",
        "fruits.append('cherry')\n",
        "print('updated list:', fruits)"
      ]
    },
    {
      "cell_type": "code",
      "execution_count": null,
      "metadata": {
        "colab": {
          "base_uri": "https://localhost:8080/"
        },
        "id": "RXgwerciNlB6",
        "outputId": "2baea161-e7cc-4e1e-908a-2ae19da33ba7"
      },
      "outputs": [
        {
          "name": "stdout",
          "output_type": "stream",
          "text": [
            "['Python', 'Data Structures', 'Balloon Making', 'Algorithms']\n",
            "Clowns 101\n"
          ]
        }
      ],
      "source": [
        "# .pop()\n",
        "cs_topics=['Python','Data Structures','Balloon Making','Algorithms', 'Clowns 101']\n",
        "\n",
        "# pop the last element\n",
        "removed_element=cs_topics.pop()\n",
        "print(cs_topics)\n",
        "print(removed_element)"
      ]
    },
    {
      "cell_type": "code",
      "execution_count": null,
      "metadata": {
        "colab": {
          "base_uri": "https://localhost:8080/"
        },
        "id": "MbGIk2aqLCNG",
        "outputId": "332a83e2-21f4-421c-936e-431ad484b002"
      },
      "outputs": [
        {
          "name": "stdout",
          "output_type": "stream",
          "text": [
            "zahraan\n",
            "('C', 'o', 'm', 'p', 'u', 't', 'e', 'r', ' ', 'S', 'c', 'i', 'e', 'n', 'c', 'e')\n",
            "(1, 2, 3, 4, 5, 6)\n",
            "<class 'list'>\n",
            "(3, 'welcome', 1, 'vidyashilp')\n",
            "(0, 1, 2, 3)\n"
          ]
        }
      ],
      "source": [
        "# tuples\n",
        "tup=('zahraan')\n",
        "print(tup)\n",
        "\n",
        "# Using Built-in Functions\n",
        "tup=tuple('Computer Science')\n",
        "print(tup)\n",
        "\n",
        "# Using list\n",
        "li=[1,2,3,4,5,6]\n",
        "print(tuple(li))\n",
        "print(type(li))\n",
        "\n",
        "tup=(3,'welcome',1,'vidyashilp')\n",
        "print(tup)\n",
        "\n",
        "# nested coples\n",
        "tup1=(0,1,2,3)\n",
        "tup2=(4,5,6)\n",
        "print(tup1)"
      ]
    },
    {
      "cell_type": "code",
      "execution_count": null,
      "metadata": {
        "colab": {
          "background_save": true,
          "base_uri": "https://localhost:8080/"
        },
        "id": "Q-ujJs90VRoF",
        "outputId": "d230a7ea-3464-4139-fe0a-52456f44a10d"
      },
      "outputs": [
        {
          "name": "stdout",
          "output_type": "stream",
          "text": [
            "('SJPUC', 'VU', 'IISD', 'DUNES')\n"
          ]
        }
      ],
      "source": [
        "# sliicing a tuple\n",
        "\n",
        "tup11=('SJPUC','VU','IISD','DUNES','SCTS')\n",
        "print(tup11[3:4])\n"
      ]
    },
    {
      "cell_type": "code",
      "execution_count": null,
      "metadata": {
        "colab": {
          "base_uri": "https://localhost:8080/"
        },
        "id": "omn1mcjtal5U",
        "outputId": "26727978-04f6-4ace-a370-e04b0e9f4e85"
      },
      "outputs": [
        {
          "output_type": "stream",
          "name": "stdout",
          "text": [
            "['VU', 'IISD']\n",
            "the sum is 3\n"
          ]
        }
      ],
      "source": [
        "li=['SJPUCC','VU','IISD']\n",
        "del li[0]\n",
        "print(li)\n",
        "\n",
        "\n",
        "# sum of a tuple\n",
        "tup3=(2)\n",
        "tup4=(1)\n",
        "sum=tup3+tup4\n",
        "print('the sum is',sum)\n"
      ]
    },
    {
      "cell_type": "code",
      "source": [
        "tup=('btech','first','second')\n",
        "print(tup[1][0:4])"
      ],
      "metadata": {
        "colab": {
          "base_uri": "https://localhost:8080/"
        },
        "id": "EpBidHegGYu_",
        "outputId": "e197c89e-00fb-47ce-a694-684a879ab49e"
      },
      "execution_count": null,
      "outputs": [
        {
          "output_type": "stream",
          "name": "stdout",
          "text": [
            "firs\n"
          ]
        }
      ]
    },
    {
      "cell_type": "code",
      "source": [
        "# Tuple Unpacking with Asterisk (*)\n",
        "\n",
        "tup=(1,2,3,4,5,6)\n",
        "a, *b, c=tup\n",
        "print(a)\n",
        "print(b)\n",
        "print(c)"
      ],
      "metadata": {
        "colab": {
          "base_uri": "https://localhost:8080/"
        },
        "id": "3OzFGjyGGizs",
        "outputId": "9643d6a5-79fa-407e-dfb3-d2c8cdf3054d"
      },
      "execution_count": null,
      "outputs": [
        {
          "output_type": "stream",
          "name": "stdout",
          "text": [
            "1\n",
            "[2, 3, 4, 5]\n",
            "6\n"
          ]
        }
      ]
    },
    {
      "cell_type": "code",
      "source": [
        "# Dictionaries\n",
        "\n",
        "my_dictionary={}\n",
        "\n",
        "# Dictionary ={key:value}\n",
        "my_dictionary={'name':'Zahraan','age':18,'place':'Bangalore'}\n",
        "print(my_dictionary)\n",
        "\n",
        "#len method\n",
        "print(len(my_dictionary))\n",
        "\n",
        "#keys\n",
        "print(my_dictionary.keys())\n"
      ],
      "metadata": {
        "colab": {
          "base_uri": "https://localhost:8080/"
        },
        "id": "RTZU6aA8HZT2",
        "outputId": "d010f9e0-549b-4848-85f5-d0ada9548591"
      },
      "execution_count": null,
      "outputs": [
        {
          "output_type": "stream",
          "name": "stdout",
          "text": [
            "{'name': 'Zahraan', 'age': 18, 'place': 'Bangalore'}\n",
            "3\n",
            "dict_keys(['name', 'age', 'place'])\n"
          ]
        }
      ]
    },
    {
      "cell_type": "code",
      "source": [
        "# dictionary creation, assigning and deleting\n",
        "\n",
        "d={'math':10,'science':15}\n",
        "print(d['math'])\n",
        "\n",
        "#print(Len(d))\n",
        "d['science']=85\n",
        "print(d)\n",
        "\n",
        "del d['math']\n",
        "print(d)"
      ],
      "metadata": {
        "colab": {
          "base_uri": "https://localhost:8080/"
        },
        "id": "DpZDvQYnMb41",
        "outputId": "f9ed2f7f-5c59-42e7-b950-916e83257ab0"
      },
      "execution_count": null,
      "outputs": [
        {
          "output_type": "stream",
          "name": "stdout",
          "text": [
            "10\n",
            "{'math': 10, 'science': 85}\n",
            "{'science': 85}\n"
          ]
        }
      ]
    },
    {
      "cell_type": "code",
      "source": [
        "# Membership Operators\n",
        "\n",
        "d={'name':'vishal','age':21}\n",
        "print(d)\n",
        "\n",
        "print('name'in d)\n",
        "print('email' in d)\n",
        "print('gender'not in d)"
      ],
      "metadata": {
        "colab": {
          "base_uri": "https://localhost:8080/"
        },
        "id": "Ov2Ve4yLOcWa",
        "outputId": "fb6c1bc6-c9b1-4f6f-e39e-d7c56a49e991"
      },
      "execution_count": null,
      "outputs": [
        {
          "output_type": "stream",
          "name": "stdout",
          "text": [
            "{'name': 'vishal', 'age': 21}\n",
            "True\n",
            "False\n",
            "True\n"
          ]
        }
      ]
    },
    {
      "cell_type": "code",
      "source": [
        "# Equality and Inequality\n",
        "d1={'a':1,'b':2}\n",
        "d2={'b':2,'a':1}\n",
        "d3={'c':3,\"e\":4}\n",
        "d4={'f':69,\"e\":4}\n",
        "\n",
        "print(d1==d2)\n",
        "print(d1!=d2)\n",
        "print(d3==d4)\n",
        "print(d3!=d4)"
      ],
      "metadata": {
        "colab": {
          "base_uri": "https://localhost:8080/"
        },
        "id": "5u12caIqUEV6",
        "outputId": "e622ef6f-d923-4387-c462-441ecdcc48d2"
      },
      "execution_count": null,
      "outputs": [
        {
          "output_type": "stream",
          "name": "stdout",
          "text": [
            "True\n",
            "False\n",
            "False\n",
            "True\n"
          ]
        }
      ]
    },
    {
      "cell_type": "code",
      "source": [
        "# Creating a nested dictionary\n",
        "dict={1:'Bangalore',\n",
        "      2:'A',\n",
        "      3:{'A':'WELCOME','B':'TO','C':'ALL'}}\n",
        "\n",
        "print(dict)\n",
        "print(dict[3]['A'])"
      ],
      "metadata": {
        "colab": {
          "base_uri": "https://localhost:8080/"
        },
        "id": "kwOvY-HvU8ZY",
        "outputId": "eb532a30-28aa-4355-b68c-62eaf7ff4add"
      },
      "execution_count": null,
      "outputs": [
        {
          "output_type": "stream",
          "name": "stdout",
          "text": [
            "{1: 'Bangalore', 2: 'A', 3: {'A': 'WELCOME', 'B': 'TO', 'C': 'ALL'}}\n",
            "WELCOME\n"
          ]
        }
      ]
    },
    {
      "cell_type": "code",
      "source": [
        "#adding elements\n",
        "\n",
        "person={'employee1':{'name':'janice','age':25}}\n",
        "\n",
        "# adding a new-key value pair to exising inner dicionary\n",
        "person['employee1']['department']='HR'\n",
        "\n",
        "# Adding a new inner dictionary\n",
        "person['employee2']={'name':'Chandler','age':28,'department':'transponster'}\n",
        "\n",
        "print(person)\n",
        "print(person['employee1'])\n",
        "print(person['employee2'])\n",
        "\n",
        "person['employee3']={'name':'Ross','age':29,'department':'Paleontology'}\n",
        "\n",
        "print('the employees are:', person)\n",
        "print(person['employee3'])\n",
        "\n",
        "#accessing elements\n",
        "print('name:', person['employee1']['name'])\n",
        "print('age:',person[\"employee2\"]['department'])\n",
        "print('department', person['employee3'][\"department\"])\n",
        "\n",
        "# deleting a key from innner dictionary\n",
        "\n",
        "del person['employee1']\n",
        "print(person)\n",
        "\n",
        "del person['employee3']\n",
        "print(person)\n",
        "\n",
        "print('updated nested dictionary:')\n",
        "print(person)"
      ],
      "metadata": {
        "id": "J9H1vrKbZFgJ",
        "colab": {
          "base_uri": "https://localhost:8080/"
        },
        "outputId": "69de9a3c-0620-4bce-e5ff-e30a3b4da884"
      },
      "execution_count": null,
      "outputs": [
        {
          "output_type": "stream",
          "name": "stdout",
          "text": [
            "{'employee1': {'name': 'janice', 'age': 25, 'department': 'HR'}, 'employee2': {'name': 'Chandler', 'age': 28, 'department': 'transponster'}}\n",
            "{'name': 'janice', 'age': 25, 'department': 'HR'}\n",
            "{'name': 'Chandler', 'age': 28, 'department': 'transponster'}\n",
            "the employees are: {'employee1': {'name': 'janice', 'age': 25, 'department': 'HR'}, 'employee2': {'name': 'Chandler', 'age': 28, 'department': 'transponster'}, 'employee3': {'name': 'Ross', 'age': 29, 'department': 'Paleontology'}}\n",
            "{'name': 'Ross', 'age': 29, 'department': 'Paleontology'}\n",
            "name: janice\n",
            "age: transponster\n",
            "department Paleontology\n",
            "{'employee2': {'name': 'Chandler', 'age': 28, 'department': 'transponster'}, 'employee3': {'name': 'Ross', 'age': 29, 'department': 'Paleontology'}}\n",
            "{'employee2': {'name': 'Chandler', 'age': 28, 'department': 'transponster'}}\n",
            "updated nested dictionary:\n",
            "{'employee2': {'name': 'Chandler', 'age': 28, 'department': 'transponster'}}\n"
          ]
        }
      ]
    },
    {
      "cell_type": "code",
      "source": [
        "#check if a key exists\n",
        "\n",
        "d1={'name':'damon','occup':'vamp'}\n",
        "d2={'name':'stefan','occup':'vampp'}\n",
        "print('she'in d1)\n",
        "print('name'in d2)"
      ],
      "metadata": {
        "colab": {
          "base_uri": "https://localhost:8080/"
        },
        "id": "jXn8hz5haRJb",
        "outputId": "9a2dae46-3a46-4ed8-d9dc-b2634caf8eb5"
      },
      "execution_count": null,
      "outputs": [
        {
          "output_type": "stream",
          "name": "stdout",
          "text": [
            "False\n",
            "True\n"
          ]
        }
      ]
    },
    {
      "cell_type": "code",
      "source": [
        "# Sets\n",
        "\n",
        "student_id={114,115,115,116}\n",
        "print(student_id)\n",
        "\n",
        "vowel_class={'a','e','i','i','o','u','o'}\n",
        "print(vowel_class)\n",
        "\n",
        "random_set={'zahraan',1,'laptop',8}\n",
        "print('mixed-set:',random_set)\n",
        "\n",
        "# adding items to a set\n",
        "numbers={42,53,58}\n",
        "print('initial set:', numbers)\n",
        "numbers.add(63)\n",
        "print('added set', numbers)\n",
        "\n",
        "# update\n",
        "companies={'gucci','uspa','ysl'}\n",
        "tech_companies={'apple','samsun','xiami'}\n",
        "companies.update(tech_companies)\n",
        "print(companies)\n",
        "print(tech_companies)\n",
        "\n",
        "# remove\n",
        "print('initial set:', tech_companies)\n",
        "removedValue=tech_companies.discard('samsun')\n",
        "print(tech_companies)\n",
        "\n"
      ],
      "metadata": {
        "id": "28ZrNtPBhMvX",
        "colab": {
          "base_uri": "https://localhost:8080/"
        },
        "outputId": "8d2a291a-1a3a-4448-f3d2-56a9de6ee474"
      },
      "execution_count": null,
      "outputs": [
        {
          "output_type": "stream",
          "name": "stdout",
          "text": [
            "{114, 115, 116}\n",
            "{'i', 'a', 'o', 'e', 'u'}\n",
            "mixed-set: {8, 1, 'laptop', 'zahraan'}\n",
            "initial set: {42, 58, 53}\n",
            "added set {42, 58, 53, 63}\n",
            "{'xiami', 'apple', 'samsun', 'uspa', 'gucci', 'ysl'}\n",
            "{'samsun', 'xiami', 'apple'}\n",
            "initial set: {'samsun', 'xiami', 'apple'}\n",
            "{'xiami', 'apple'}\n"
          ]
        }
      ]
    },
    {
      "cell_type": "code",
      "source": [
        "# set operations-union\n",
        "\n",
        "A={1,3,5}\n",
        "B={0,2,4}\n",
        "\n",
        "print('Union Using|:',A|B)\n",
        "\n",
        "print('Uninion Using():', A.union(B))"
      ],
      "metadata": {
        "colab": {
          "base_uri": "https://localhost:8080/"
        },
        "id": "a1MeS0YoOcdl",
        "outputId": "1c714e5f-ebca-4ecf-bfed-178691c24269"
      },
      "execution_count": null,
      "outputs": [
        {
          "output_type": "stream",
          "name": "stdout",
          "text": [
            "Union Using|: {0, 1, 2, 3, 4, 5}\n",
            "Union Using|: {0, 1, 2, 3, 4, 5}\n"
          ]
        }
      ]
    },
    {
      "cell_type": "code",
      "source": [
        "# set operation-intersection\n",
        "\n",
        "A={1,3,5,8,9}\n",
        "B={1,3,5,9,2,6}\n",
        "print(A&B)"
      ],
      "metadata": {
        "id": "BV5zyJVFVwOd"
      },
      "execution_count": null,
      "outputs": []
    },
    {
      "cell_type": "code",
      "source": [
        "A={3,2,15,1,9,8,10}\n",
        "sorted_desc=sorted(A,reverse=True)\n",
        "print(sorted_desc)"
      ],
      "metadata": {
        "colab": {
          "base_uri": "https://localhost:8080/"
        },
        "id": "ekDkOTXrTUJ0",
        "outputId": "2a7be1c9-7d63-4ae4-dfc4-c9a7de94e249"
      },
      "execution_count": null,
      "outputs": [
        {
          "output_type": "stream",
          "name": "stdout",
          "text": [
            "[15, 10, 9, 8, 3, 2, 1]\n"
          ]
        }
      ]
    },
    {
      "cell_type": "code",
      "source": [
        "# arithmetic operators\n",
        "x=10\n",
        "y=5\n",
        "addition=x+y\n",
        "subtraction=x-y\n",
        "multiplication=x * y\n",
        "division=x/y\n",
        "modulo=x % y\n",
        "exponentiation= x ** y\n",
        "floor_division=x // y\n",
        "print(addition)\n",
        "print(subtraction)\n",
        "print(division)\n",
        "print(multiplication)\n",
        "print(modulo)\n",
        "print(exponentiation)\n",
        "print(floor_division)\n",
        "print(x)"
      ],
      "metadata": {
        "id": "MXMlq3ZoTq7M",
        "colab": {
          "base_uri": "https://localhost:8080/"
        },
        "outputId": "8527671e-0960-4bec-d4cb-355dc8a3a47c"
      },
      "execution_count": null,
      "outputs": [
        {
          "output_type": "stream",
          "name": "stdout",
          "text": [
            "15\n",
            "5\n",
            "2.0\n",
            "50\n",
            "0\n",
            "100000\n",
            "2\n",
            "10\n"
          ]
        }
      ]
    },
    {
      "cell_type": "code",
      "source": [
        "x=10\n",
        "x+=5\n",
        "print(x)\n",
        "x -=3\n",
        "print(x)\n",
        "x *=2\n",
        "print(x)\n",
        "x /=4\n",
        "print(x)\n",
        "\n",
        "equal_to=x==y\n",
        "not_equal_to=x !=y\n",
        "less_than=x<y\n",
        "print(equal_to)\n",
        "print(not_equal_to)\n",
        "print(less_than)"
      ],
      "metadata": {
        "colab": {
          "base_uri": "https://localhost:8080/"
        },
        "id": "rEP8N0F0ae0K",
        "outputId": "b1bd3e74-f91f-4cbc-d261-09e01a8f08a6"
      },
      "execution_count": null,
      "outputs": [
        {
          "output_type": "stream",
          "name": "stdout",
          "text": [
            "15\n",
            "12\n",
            "24\n",
            "6.0\n",
            "False\n",
            "True\n",
            "False\n"
          ]
        }
      ]
    },
    {
      "cell_type": "code",
      "source": [
        "# bitwise operators\n",
        "x=5\n",
        "x=3\n",
        "bitwise_and=x&y\n",
        "bitwise_or=x|y\n",
        "bitwise_xor=x^y\n",
        "bitwise_not_x=~x\n",
        "left_shift=x<<1\n",
        "right_shift=x>>1\n",
        "print(bitwise_and)\n",
        "print(bitwise_or)\n",
        "print(bitwise_xor)\n",
        "print(bitwise_not_x)\n",
        "print(left_shift)\n",
        "print(right_shift)"
      ],
      "metadata": {
        "colab": {
          "base_uri": "https://localhost:8080/"
        },
        "id": "CpcXhGSweGqf",
        "outputId": "acde0a82-892d-409c-f41a-5cc579e7f397"
      },
      "execution_count": null,
      "outputs": [
        {
          "output_type": "stream",
          "name": "stdout",
          "text": [
            "1\n",
            "7\n",
            "6\n",
            "-4\n",
            "6\n",
            "1\n"
          ]
        }
      ]
    },
    {
      "cell_type": "code",
      "source": [
        "# Calculate income tax for the input income by adhering to the Indian rules.\n",
        "# there is no tax on income till rs.250000\n",
        "# 5% on b\\w rs.250001 to rs.500000,\n",
        "# 10% on between rs,500001 to rs.1000000,\n",
        "# 20% on b\\w rs.1000001 to rs.200000,\n",
        "# 30% on b\\w rs. 2000001 to rs.3000000,\n",
        "# 40% on above rs.3000001\n",
        "\n",
        "income=0\n",
        "if income==250000:\n",
        "  tax=0\n",
        "elif income==500000:\n",
        "  tax=(income-500000)*0.05\n",
        "else:\n",
        "  tax=(500000-250001)*0.05\n",
        "print('tax amount', tax)\n"
      ],
      "metadata": {
        "colab": {
          "base_uri": "https://localhost:8080/"
        },
        "id": "3IpN0uQWHYMM",
        "outputId": "57944726-f87c-4607-e0a2-f8b8b8420abd"
      },
      "execution_count": null,
      "outputs": [
        {
          "output_type": "stream",
          "name": "stdout",
          "text": [
            "tax amount 12499.95\n"
          ]
        }
      ]
    },
    {
      "cell_type": "code",
      "source": [
        "income=0\n",
        "if income==500001:\n",
        "  tax=0\n",
        "elif income==1000000:\n",
        "  tax=(income-1000000)*1.0\n",
        "else:\n",
        "  tax=(1000000-500000)*1.0\n",
        "print('tax amount', tax)"
      ],
      "metadata": {
        "colab": {
          "base_uri": "https://localhost:8080/"
        },
        "id": "yh40eXNNOD4b",
        "outputId": "26e52d53-74ec-4bd9-9c75-3ce50d434436"
      },
      "execution_count": null,
      "outputs": [
        {
          "output_type": "stream",
          "name": "stdout",
          "text": [
            "tax amount 500000.0\n"
          ]
        }
      ]
    },
    {
      "cell_type": "code",
      "source": [
        "income=0\n",
        "if income==1000001:\n",
        "  tax=0\n",
        "elif income==2000000:\n",
        "  tax=(income-2000000)*2.\n",
        "else:\n",
        "  tax=(2000000-1000001)*2.0\n",
        "print('tax amount', tax)"
      ],
      "metadata": {
        "colab": {
          "base_uri": "https://localhost:8080/"
        },
        "id": "qC7qKSmaPbq7",
        "outputId": "e976838c-79e6-4683-8648-3bf5fab0b262"
      },
      "execution_count": null,
      "outputs": [
        {
          "output_type": "stream",
          "name": "stdout",
          "text": [
            "tax amount 1999998.0\n"
          ]
        }
      ]
    },
    {
      "cell_type": "code",
      "source": [
        "# display 'welcome' if user enters the number which is a multiple of '7' or say 'bye'\n",
        "# to check whether the enetered number is 3 digit or not\n",
        "\n",
        "num=int(input('enter your age:'))\n",
        "if num%7==0:\n",
        "        print('WELCOME')\n",
        "else:\n",
        "        print('BYE')\n",
        "\n",
        "\n",
        "\n"
      ],
      "metadata": {
        "colab": {
          "base_uri": "https://localhost:8080/"
        },
        "id": "MK2ZtoHqSO6u",
        "outputId": "cd8cf618-137a-4cbf-ef90-21763c4bbf93"
      },
      "execution_count": null,
      "outputs": [
        {
          "output_type": "stream",
          "name": "stdout",
          "text": [
            "enter your age:49\n",
            "WELCOME\n"
          ]
        }
      ]
    },
    {
      "cell_type": "code",
      "source": [
        "age=(input('enter your agee:' ))\n",
        "print(len(age))\n",
        "if age==100:\n",
        "  print('yes')\n",
        "else:\n",
        "  age==999\n",
        "  print('no')\n"
      ],
      "metadata": {
        "colab": {
          "base_uri": "https://localhost:8080/"
        },
        "id": "P3z3_FlTaIiJ",
        "outputId": "d4d37aae-14d5-4508-df32-fabe57a960af"
      },
      "execution_count": null,
      "outputs": [
        {
          "output_type": "stream",
          "name": "stdout",
          "text": [
            "enter your agee:45\n",
            "2\n",
            "no\n"
          ]
        }
      ]
    },
    {
      "cell_type": "code",
      "source": [
        "num=(input('enter your num:' ))\n",
        "print('length of your number is:',len(num))\n",
        "if num==100:\n",
        "  print('Your Number is 3 digits long')\n",
        "else:\n",
        "  num==999\n",
        "  print('Your Number isnt 3 Digits long')\n"
      ],
      "metadata": {
        "colab": {
          "base_uri": "https://localhost:8080/"
        },
        "id": "25zgMIeNbG1S",
        "outputId": "a4f5fccb-b1d6-4380-deb8-c1ee7d412748"
      },
      "execution_count": null,
      "outputs": [
        {
          "output_type": "stream",
          "name": "stdout",
          "text": [
            "enter your num:6969\n",
            "length of your number is: 4\n",
            "Your Number isnt 3 Digits long\n"
          ]
        }
      ]
    },
    {
      "cell_type": "code",
      "source": [
        "''' if condition:\n",
        "    print()\n",
        "else:\n",
        "  print()\n",
        "\n",
        "ternary/conditional'''\n",
        "\n",
        "\n",
        "userscore=40\n",
        "print('next level') if userscore>50 else print('repeat level')"
      ],
      "metadata": {
        "id": "UTpIOIBpcV7R",
        "colab": {
          "base_uri": "https://localhost:8080/"
        },
        "outputId": "b8473fcb-0072-4d04-b43d-47bb8355f1dc"
      },
      "execution_count": null,
      "outputs": [
        {
          "output_type": "stream",
          "name": "stdout",
          "text": [
            "repeat level\n"
          ]
        }
      ]
    },
    {
      "cell_type": "code",
      "source": [
        "age=18\n",
        "print('is an adult') if age>=18 else print('A minorr')"
      ],
      "metadata": {
        "colab": {
          "base_uri": "https://localhost:8080/"
        },
        "id": "ASDlYbeBWQv0",
        "outputId": "7f92810d-72b8-4054-c80f-8a3db201d01b"
      },
      "execution_count": null,
      "outputs": [
        {
          "output_type": "stream",
          "name": "stdout",
          "text": [
            "is an adult\n"
          ]
        }
      ]
    },
    {
      "cell_type": "code",
      "source": [
        "is_hot=False\n",
        "drink='iced tea' if is_hot else 'coffee'\n",
        "print(drink)\n",
        "\n",
        "is_hot=True\n",
        "drink='iced coffee' if is_hot else 'coffee'\n",
        "print(drink)"
      ],
      "metadata": {
        "colab": {
          "base_uri": "https://localhost:8080/"
        },
        "id": "acVDxItZXYjN",
        "outputId": "0acb07da-2a14-4fe1-f858-af5df5bcd731"
      },
      "execution_count": null,
      "outputs": [
        {
          "output_type": "stream",
          "name": "stdout",
          "text": [
            "coffee\n",
            "iced coffee\n"
          ]
        }
      ]
    },
    {
      "cell_type": "code",
      "source": [
        "user_logged_in= True\n",
        "status='Welcome back'if user_logged_in else 'please log in'\n",
        "print(status)"
      ],
      "metadata": {
        "colab": {
          "base_uri": "https://localhost:8080/"
        },
        "id": "QnK03-cjXnQW",
        "outputId": "aa6ace1b-ff92-425e-9533-f342c5d9bd98"
      },
      "execution_count": null,
      "outputs": [
        {
          "output_type": "stream",
          "name": "stdout",
          "text": [
            "Welcome back\n"
          ]
        }
      ]
    },
    {
      "cell_type": "code",
      "source": [
        "# using lists\n",
        "numbers=(0,1,2,3,4,5,6,7,8,9)\n",
        "length_status='long list' if len(numbers)>5 else 'short list'\n",
        "print(length_status)\n",
        "print('the length of your list is:', len(numbers))\n"
      ],
      "metadata": {
        "id": "kHAEp0m6X-6v",
        "colab": {
          "base_uri": "https://localhost:8080/"
        },
        "outputId": "9b97edfc-adbc-4f86-e714-0f9b600b591a"
      },
      "execution_count": null,
      "outputs": [
        {
          "output_type": "stream",
          "name": "stdout",
          "text": [
            "long list\n",
            "the length of your list is: 10\n"
          ]
        }
      ]
    },
    {
      "cell_type": "code",
      "source": [
        "#using tuples\n",
        "t=90\n",
        "('water is not boiling', 'water is boiling')[t>=100]\n",
        "\n",
        "l=190\n",
        "('he is tall','he is short')[l<150]"
      ],
      "metadata": {
        "colab": {
          "base_uri": "https://localhost:8080/",
          "height": 36
        },
        "id": "zw47m9NGe6BR",
        "outputId": "013bf894-e572-4e52-aad6-2852a1758668"
      },
      "execution_count": null,
      "outputs": [
        {
          "output_type": "execute_result",
          "data": {
            "text/plain": [
              "'he is tall'"
            ],
            "application/vnd.google.colaboratory.intrinsic+json": {
              "type": "string"
            }
          },
          "metadata": {},
          "execution_count": 20
        }
      ]
    },
    {
      "cell_type": "code",
      "source": [
        "# using dictionaries\n",
        "t=90\n",
        "{True:'water is boiling',False:'Water is not boiling'}[t>=100]"
      ],
      "metadata": {
        "colab": {
          "base_uri": "https://localhost:8080/",
          "height": 36
        },
        "id": "3qS4W4IDiBWO",
        "outputId": "7eeb6b86-5081-4a0c-8df1-7af9ed285ea6"
      },
      "execution_count": null,
      "outputs": [
        {
          "output_type": "execute_result",
          "data": {
            "text/plain": [
              "'Water is not boiling'"
            ],
            "application/vnd.google.colaboratory.intrinsic+json": {
              "type": "string"
            }
          },
          "metadata": {},
          "execution_count": 19
        }
      ]
    },
    {
      "cell_type": "code",
      "source": [
        "role='admin'\n",
        "access='full access'if role=='admin' else 'limited access'\n",
        "print(access)"
      ],
      "metadata": {
        "colab": {
          "base_uri": "https://localhost:8080/"
        },
        "id": "zmN5TZxZgIj2",
        "outputId": "d73afa85-2464-4a75-f6bc-22e62e2b8d0e"
      },
      "execution_count": null,
      "outputs": [
        {
          "output_type": "stream",
          "name": "stdout",
          "text": [
            "full access\n"
          ]
        }
      ]
    },
    {
      "cell_type": "code",
      "source": [
        "data=[1,8,9,0,6]\n",
        "maximum=max(data)\n",
        "minimum=min(data)\n",
        "print(maximum)\n",
        "print(minimum)"
      ],
      "metadata": {
        "id": "JrN0ToKUjxCt",
        "colab": {
          "base_uri": "https://localhost:8080/"
        },
        "outputId": "fe1d88d3-d33e-49ea-924d-e4029cfbb004"
      },
      "execution_count": null,
      "outputs": [
        {
          "output_type": "stream",
          "name": "stdout",
          "text": [
            "9\n",
            "0\n"
          ]
        }
      ]
    },
    {
      "cell_type": "code",
      "source": [
        "# menu drive\n",
        "print('\\n Menu')\n",
        "print('1.Addition')\n",
        "print('2.Subtraction')\n",
        "print('3.Division')\n",
        "ch=int(input('Enter Your Choice'))\n",
        "if ch==1:\n",
        "  # code for addition take input from the user\n",
        "  print(ch)"
      ],
      "metadata": {
        "id": "4x8lFOdZRNYT",
        "colab": {
          "base_uri": "https://localhost:8080/"
        },
        "outputId": "dddc182e-0634-4148-fa21-d88d56a5c91a"
      },
      "execution_count": null,
      "outputs": [
        {
          "name": "stdout",
          "output_type": "stream",
          "text": [
            "\n",
            " Menu\n",
            "1.Addition\n",
            "2.Subtraction\n",
            "3.Division\n",
            "Enter Your Choice3\n"
          ]
        }
      ]
    },
    {
      "cell_type": "code",
      "source": [
        "print('Menu')\n",
        "print('1.Addition')\n",
        "print('2.Subtrction')\n",
        "print('3.Division')\n",
        "ch=int(input('Enter your choice='))\n",
        "a=int(input('Enter your value='))\n",
        "b=int(input('Enter your value='))\n",
        "if ch==1:\n",
        "  # code for addition take input from the user\n",
        "  c=a+b\n",
        "  print('The addition for two values is:',c)\n",
        "  print(f'The addition of {a} and {b} values is=', c)\n",
        "\n",
        "elif ch==2:\n",
        "  c=a-b\n",
        "  print('The subtraction of two variables is:',c)\n",
        "\n",
        "else:\n",
        "  print('Invalid choice')"
      ],
      "metadata": {
        "colab": {
          "base_uri": "https://localhost:8080/"
        },
        "id": "dTTGJRZQTW5n",
        "outputId": "783624db-dd7d-4be7-df9d-1a8bcf53dcc8"
      },
      "execution_count": null,
      "outputs": [
        {
          "output_type": "stream",
          "name": "stdout",
          "text": [
            "Menu\n",
            "1.Addition\n",
            "2.Subtrction\n",
            "3.Division\n",
            "Enter your choice=2\n",
            "Enter your value=753\n",
            "Enter your value=951\n",
            "The subtraction of two variables is: -198\n"
          ]
        }
      ]
    },
    {
      "cell_type": "code",
      "source": [
        "# for loops\n",
        "string1='Hello'\n",
        "for str1 in string1:\n",
        "  print(str1)\n",
        "\n",
        "\n",
        "numbers_list=1,2,3,4,5,6,7,8,9\n",
        "for num in numbers_list:\n",
        "  print(num)"
      ],
      "metadata": {
        "colab": {
          "base_uri": "https://localhost:8080/"
        },
        "id": "1as7JvfYU_YS",
        "outputId": "293801ce-3e81-4aaf-e525-f3d7a71cbe7f"
      },
      "execution_count": null,
      "outputs": [
        {
          "output_type": "stream",
          "name": "stdout",
          "text": [
            "H\n",
            "e\n",
            "l\n",
            "l\n",
            "o\n",
            "1\n",
            "2\n",
            "3\n",
            "4\n",
            "5\n",
            "6\n",
            "7\n",
            "8\n",
            "9\n"
          ]
        }
      ]
    },
    {
      "cell_type": "code",
      "source": [
        "# for dictionares\n",
        "\n",
        "dict1={1:'hello',2:'hai',3:'hi'}\n",
        "for key,value in dict1.items():\n",
        "  print(f'The key is {key} and the value is {value}')"
      ],
      "metadata": {
        "colab": {
          "base_uri": "https://localhost:8080/"
        },
        "id": "RHjD1vYzY1g8",
        "outputId": "9a8827f5-8d51-455f-f0cb-0d6b836dbc3a"
      },
      "execution_count": null,
      "outputs": [
        {
          "output_type": "stream",
          "name": "stdout",
          "text": [
            "The key is 1 and the value is hello\n",
            "The key is 2 and the value is hai\n",
            "The key is 3 and the value is hi\n"
          ]
        }
      ]
    },
    {
      "cell_type": "code",
      "source": [
        "#range\n",
        "for i in range(5):\n",
        "  print(i)"
      ],
      "metadata": {
        "colab": {
          "base_uri": "https://localhost:8080/"
        },
        "id": "NPuXPBwdcLO1",
        "outputId": "ccffe549-3ee3-426b-d235-c67e0732fffe"
      },
      "execution_count": null,
      "outputs": [
        {
          "output_type": "stream",
          "name": "stdout",
          "text": [
            "0\n",
            "1\n",
            "2\n",
            "3\n",
            "4\n"
          ]
        }
      ]
    },
    {
      "cell_type": "code",
      "source": [
        "for l in range(2,5):\n",
        "  print(l)\n",
        "\n",
        "\n",
        "for z in range(2,5,2):\n",
        "  print(z)"
      ],
      "metadata": {
        "colab": {
          "base_uri": "https://localhost:8080/"
        },
        "id": "psFWaAPfhO_u",
        "outputId": "7f2d061e-49ac-4b7c-a1c8-1894efb0e22f"
      },
      "execution_count": null,
      "outputs": [
        {
          "output_type": "stream",
          "name": "stdout",
          "text": [
            "2\n",
            "3\n",
            "4\n",
            "2\n",
            "4\n"
          ]
        }
      ]
    },
    {
      "cell_type": "code",
      "source": [
        "n=14\n",
        "for i in range(0,n):\n",
        "  print(i)"
      ],
      "metadata": {
        "colab": {
          "base_uri": "https://localhost:8080/"
        },
        "id": "ocL6EnoOhWqH",
        "outputId": "a2a0c34a-91c4-4c84-c2df-2f9ee884bbb6"
      },
      "execution_count": null,
      "outputs": [
        {
          "output_type": "stream",
          "name": "stdout",
          "text": [
            "0\n",
            "1\n",
            "2\n",
            "3\n",
            "4\n",
            "5\n",
            "6\n",
            "7\n",
            "8\n",
            "9\n",
            "10\n",
            "11\n",
            "12\n",
            "13\n"
          ]
        }
      ]
    },
    {
      "cell_type": "code",
      "source": [
        "n=6\n",
        "for i in range(4,6):\n",
        "  print(i)\n"
      ],
      "metadata": {
        "colab": {
          "base_uri": "https://localhost:8080/"
        },
        "id": "6X6u--8YhsWI",
        "outputId": "fb36b09f-e99c-4b5b-f7a6-bf96ff02becb"
      },
      "execution_count": null,
      "outputs": [
        {
          "output_type": "stream",
          "name": "stdout",
          "text": [
            "4\n",
            "5\n"
          ]
        }
      ]
    },
    {
      "cell_type": "code",
      "source": [
        "# loop controls-break, continue, pass\n",
        "\n",
        "for i in range(5):\n",
        "  if i==3:\n",
        "    break\n",
        "else:\n",
        "  print(i)\n",
        "\n",
        "\n",
        "\n",
        "\n",
        "for i in range(5):\n",
        "  if i==3:\n",
        "    continue\n",
        "else:\n",
        "  print(i)"
      ],
      "metadata": {
        "colab": {
          "base_uri": "https://localhost:8080/"
        },
        "id": "KvqnolRzjOCU",
        "outputId": "443ad930-7adf-40d4-8061-512f7abf0cba"
      },
      "execution_count": null,
      "outputs": [
        {
          "output_type": "stream",
          "name": "stdout",
          "text": [
            "4\n"
          ]
        }
      ]
    },
    {
      "cell_type": "code",
      "source": [
        "list1=['A','B','C','D']\n",
        "list2=[1,2,3,4]\n",
        "for alpha, number in zip(list1,list2):\n",
        "  print(f'{alpha} AND {number}')"
      ],
      "metadata": {
        "id": "tLSqKOA_mrLZ",
        "colab": {
          "base_uri": "https://localhost:8080/"
        },
        "outputId": "3628cc11-4c6b-4ddf-8d79-0a65d96944d7"
      },
      "execution_count": null,
      "outputs": [
        {
          "output_type": "stream",
          "name": "stdout",
          "text": [
            "A AND 1\n",
            "B AND 2\n",
            "C AND 3\n",
            "D AND 4\n"
          ]
        }
      ]
    },
    {
      "cell_type": "code",
      "source": [
        "# using typecasting\n",
        "list1=['A','B','C','D']\n",
        "list2=[1,2,3,4]\n",
        "\n",
        "zipped_data=zip(list1,list2)\n",
        "print(list(zipped_data))"
      ],
      "metadata": {
        "colab": {
          "base_uri": "https://localhost:8080/"
        },
        "id": "ZBIBPTlCZrTc",
        "outputId": "47c137a7-e552-4f1b-8088-1afd0669e78d"
      },
      "execution_count": null,
      "outputs": [
        {
          "output_type": "stream",
          "name": "stdout",
          "text": [
            "[('A', 1), ('B', 2), ('C', 3), ('D', 4)]\n"
          ]
        }
      ]
    },
    {
      "cell_type": "code",
      "source": [
        "# unzip\n",
        "fruits_quantities=[('Apple',10), ('Banana',20),('Orange',30)]\n",
        "fruits, quantities=zip(*fruits_quantities)\n",
        "\n",
        "print(f'Fruits:{fruits}')\n",
        "print(f'Quantities:{quantities}')"
      ],
      "metadata": {
        "colab": {
          "base_uri": "https://localhost:8080/"
        },
        "id": "RBXIImoha9YX",
        "outputId": "77a39635-f2cc-42de-a446-0c3615dad5fc"
      },
      "execution_count": null,
      "outputs": [
        {
          "output_type": "stream",
          "name": "stdout",
          "text": [
            "Fruits:('Apple', 'Banana', 'Orange')\n",
            "Quantities:(10, 20, 30)\n"
          ]
        }
      ]
    },
    {
      "cell_type": "code",
      "source": [
        "age=int(input('ENTER YOUR AGE:'))\n",
        "if age>=18:\n",
        "  print('Welcome')\n",
        "\n",
        "else:\n",
        "  print('ENTRY RESTRICTED!!!!')"
      ],
      "metadata": {
        "colab": {
          "base_uri": "https://localhost:8080/"
        },
        "id": "uOaE-jdhdeqd",
        "outputId": "e23513d6-5df1-4aa5-ed8f-12b102fcc936"
      },
      "execution_count": null,
      "outputs": [
        {
          "output_type": "stream",
          "name": "stdout",
          "text": [
            "ENTER YOUR AGE:19\n",
            "Welcome\n"
          ]
        }
      ]
    },
    {
      "cell_type": "code",
      "source": [
        "n=11\n",
        "for i in range(0,n):\n",
        "  print(i)\n",
        "\n",
        "\n",
        "if i%2==0:\n",
        "  print(i)"
      ],
      "metadata": {
        "colab": {
          "base_uri": "https://localhost:8080/"
        },
        "id": "vCVO53V9nBpz",
        "outputId": "1b357a18-7841-40b2-b8e6-702cfbc3ba7c"
      },
      "execution_count": null,
      "outputs": [
        {
          "output_type": "stream",
          "name": "stdout",
          "text": [
            "0\n",
            "1\n",
            "2\n",
            "3\n",
            "4\n",
            "5\n",
            "6\n",
            "7\n",
            "8\n",
            "9\n",
            "10\n",
            "10\n"
          ]
        }
      ]
    },
    {
      "cell_type": "code",
      "source": [],
      "metadata": {
        "id": "KnwZd3R6nddk"
      },
      "execution_count": null,
      "outputs": []
    }
  ],
  "metadata": {
    "colab": {
      "provenance": [],
      "authorship_tag": "ABX9TyNXmsKaX5GfMhhgvbNBX/FX",
      "include_colab_link": true
    },
    "kernelspec": {
      "display_name": "Python 3",
      "name": "python3"
    },
    "language_info": {
      "name": "python"
    }
  },
  "nbformat": 4,
  "nbformat_minor": 0
}